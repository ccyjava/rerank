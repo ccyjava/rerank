{
 "cells": [
  {
   "cell_type": "code",
   "execution_count": 1,
   "metadata": {},
   "outputs": [],
   "source": [
    "%load_ext autoreload\n",
    "%autoreload 2"
   ]
  },
  {
   "cell_type": "code",
   "execution_count": 2,
   "metadata": {},
   "outputs": [],
   "source": [
    "import dataset_utils"
   ]
  },
  {
   "cell_type": "code",
   "execution_count": 3,
   "metadata": {},
   "outputs": [
    {
     "name": "stderr",
     "output_type": "stream",
     "text": [
      "c:\\Users\\ashudesingh\\source\\repos\\new\\rerank\\dataset_utils.py:30: UserWarning: Boolean Series key will be reindexed to match DataFrame index.\n",
      "  other_docs = self.df[self.df[\"Query\"] == query][self.df[\"MUrlKey\"] != murl_key]\n"
     ]
    },
    {
     "data": {
      "text/html": [
       "<div>\n",
       "<style scoped>\n",
       "    .dataframe tbody tr th:only-of-type {\n",
       "        vertical-align: middle;\n",
       "    }\n",
       "\n",
       "    .dataframe tbody tr th {\n",
       "        vertical-align: top;\n",
       "    }\n",
       "\n",
       "    .dataframe thead th {\n",
       "        text-align: right;\n",
       "    }\n",
       "</style>\n",
       "<table border=\"1\" class=\"dataframe\">\n",
       "  <thead>\n",
       "    <tr style=\"text-align: right;\">\n",
       "      <th></th>\n",
       "      <th>Query</th>\n",
       "      <th>MUrl</th>\n",
       "      <th>MUrlKey</th>\n",
       "      <th>PUrl</th>\n",
       "      <th>PUrlKey</th>\n",
       "      <th>PageTitle</th>\n",
       "      <th>TuringMMTextEmbedding</th>\n",
       "      <th>cosine_similarity</th>\n",
       "    </tr>\n",
       "  </thead>\n",
       "  <tbody>\n",
       "    <tr>\n",
       "      <th>1</th>\n",
       "      <td>test query 1</td>\n",
       "      <td>https://example.com/4</td>\n",
       "      <td>key4</td>\n",
       "      <td>https://example.com/p4</td>\n",
       "      <td>pkey4</td>\n",
       "      <td>Example Page 4</td>\n",
       "      <td>[0.11, 0.21, 0.31]</td>\n",
       "      <td>0.999859</td>\n",
       "    </tr>\n",
       "    <tr>\n",
       "      <th>2</th>\n",
       "      <td>test query 1</td>\n",
       "      <td>https://example.com/5</td>\n",
       "      <td>key5</td>\n",
       "      <td>https://example.com/p5</td>\n",
       "      <td>pkey5</td>\n",
       "      <td>Example Page 5</td>\n",
       "      <td>[0.12, 0.22, 0.32]</td>\n",
       "      <td>0.999481</td>\n",
       "    </tr>\n",
       "    <tr>\n",
       "      <th>3</th>\n",
       "      <td>test query 1</td>\n",
       "      <td>https://example.com/6</td>\n",
       "      <td>key6</td>\n",
       "      <td>https://example.com/p6</td>\n",
       "      <td>pkey6</td>\n",
       "      <td>Example Page 6</td>\n",
       "      <td>[0.13, 0.23, 0.33]</td>\n",
       "      <td>0.998920</td>\n",
       "    </tr>\n",
       "    <tr>\n",
       "      <th>4</th>\n",
       "      <td>test query 1</td>\n",
       "      <td>https://example.com/7</td>\n",
       "      <td>key7</td>\n",
       "      <td>https://example.com/p7</td>\n",
       "      <td>pkey7</td>\n",
       "      <td>Example Page 7</td>\n",
       "      <td>[0.14, 0.24, 0.34]</td>\n",
       "      <td>0.998220</td>\n",
       "    </tr>\n",
       "    <tr>\n",
       "      <th>5</th>\n",
       "      <td>test query 1</td>\n",
       "      <td>https://example.com/8</td>\n",
       "      <td>key8</td>\n",
       "      <td>https://example.com/p8</td>\n",
       "      <td>pkey8</td>\n",
       "      <td>Example Page 8</td>\n",
       "      <td>[0.15, 0.25, 0.35]</td>\n",
       "      <td>0.997415</td>\n",
       "    </tr>\n",
       "  </tbody>\n",
       "</table>\n",
       "</div>"
      ],
      "text/plain": [
       "          Query                   MUrl MUrlKey                    PUrl  \\\n",
       "1  test query 1  https://example.com/4    key4  https://example.com/p4   \n",
       "2  test query 1  https://example.com/5    key5  https://example.com/p5   \n",
       "3  test query 1  https://example.com/6    key6  https://example.com/p6   \n",
       "4  test query 1  https://example.com/7    key7  https://example.com/p7   \n",
       "5  test query 1  https://example.com/8    key8  https://example.com/p8   \n",
       "\n",
       "  PUrlKey       PageTitle TuringMMTextEmbedding  cosine_similarity  \n",
       "1   pkey4  Example Page 4    [0.11, 0.21, 0.31]           0.999859  \n",
       "2   pkey5  Example Page 5    [0.12, 0.22, 0.32]           0.999481  \n",
       "3   pkey6  Example Page 6    [0.13, 0.23, 0.33]           0.998920  \n",
       "4   pkey7  Example Page 7    [0.14, 0.24, 0.34]           0.998220  \n",
       "5   pkey8  Example Page 8    [0.15, 0.25, 0.35]           0.997415  "
      ]
     },
     "execution_count": 3,
     "metadata": {},
     "output_type": "execute_result"
    }
   ],
   "source": [
    "dataset = dataset_utils.Dataset()\n",
    "dataset.get_nearest_neighbors(\"test query 1\", \"key1\", k=5)"
   ]
  },
  {
   "cell_type": "code",
   "execution_count": 4,
   "metadata": {},
   "outputs": [
    {
     "name": "stderr",
     "output_type": "stream",
     "text": [
      "c:\\Users\\ashudesingh\\source\\repos\\new\\rerank\\dataset_utils.py:30: UserWarning: Boolean Series key will be reindexed to match DataFrame index.\n",
      "  other_docs = self.df[self.df[\"Query\"] == query][self.df[\"MUrlKey\"] != murl_key]\n"
     ]
    },
    {
     "data": {
      "text/html": [
       "<div>\n",
       "<style scoped>\n",
       "    .dataframe tbody tr th:only-of-type {\n",
       "        vertical-align: middle;\n",
       "    }\n",
       "\n",
       "    .dataframe tbody tr th {\n",
       "        vertical-align: top;\n",
       "    }\n",
       "\n",
       "    .dataframe thead th {\n",
       "        text-align: right;\n",
       "    }\n",
       "</style>\n",
       "<table border=\"1\" class=\"dataframe\">\n",
       "  <thead>\n",
       "    <tr style=\"text-align: right;\">\n",
       "      <th></th>\n",
       "      <th>Query</th>\n",
       "      <th>MUrl</th>\n",
       "      <th>MUrlKey</th>\n",
       "      <th>PUrl</th>\n",
       "      <th>PUrlKey</th>\n",
       "      <th>PageTitle</th>\n",
       "      <th>TuringMMTextEmbedding</th>\n",
       "      <th>cosine_similarity</th>\n",
       "    </tr>\n",
       "  </thead>\n",
       "  <tbody>\n",
       "    <tr>\n",
       "      <th>2</th>\n",
       "      <td>test query 1</td>\n",
       "      <td>https://example.com/5</td>\n",
       "      <td>key5</td>\n",
       "      <td>https://example.com/p5</td>\n",
       "      <td>pkey5</td>\n",
       "      <td>Example Page 5</td>\n",
       "      <td>[0.12, 0.22, 0.32]</td>\n",
       "      <td>0.999881</td>\n",
       "    </tr>\n",
       "    <tr>\n",
       "      <th>0</th>\n",
       "      <td>test query 1</td>\n",
       "      <td>https://example.com/1</td>\n",
       "      <td>key1</td>\n",
       "      <td>https://example.com/p1</td>\n",
       "      <td>pkey1</td>\n",
       "      <td>Example Page 1</td>\n",
       "      <td>[0.1, 0.2, 0.3]</td>\n",
       "      <td>0.999859</td>\n",
       "    </tr>\n",
       "    <tr>\n",
       "      <th>3</th>\n",
       "      <td>test query 1</td>\n",
       "      <td>https://example.com/6</td>\n",
       "      <td>key6</td>\n",
       "      <td>https://example.com/p6</td>\n",
       "      <td>pkey6</td>\n",
       "      <td>Example Page 6</td>\n",
       "      <td>[0.13, 0.23, 0.33]</td>\n",
       "      <td>0.999559</td>\n",
       "    </tr>\n",
       "    <tr>\n",
       "      <th>4</th>\n",
       "      <td>test query 1</td>\n",
       "      <td>https://example.com/7</td>\n",
       "      <td>key7</td>\n",
       "      <td>https://example.com/p7</td>\n",
       "      <td>pkey7</td>\n",
       "      <td>Example Page 7</td>\n",
       "      <td>[0.14, 0.24, 0.34]</td>\n",
       "      <td>0.999080</td>\n",
       "    </tr>\n",
       "    <tr>\n",
       "      <th>5</th>\n",
       "      <td>test query 1</td>\n",
       "      <td>https://example.com/8</td>\n",
       "      <td>key8</td>\n",
       "      <td>https://example.com/p8</td>\n",
       "      <td>pkey8</td>\n",
       "      <td>Example Page 8</td>\n",
       "      <td>[0.15, 0.25, 0.35]</td>\n",
       "      <td>0.998480</td>\n",
       "    </tr>\n",
       "  </tbody>\n",
       "</table>\n",
       "</div>"
      ],
      "text/plain": [
       "          Query                   MUrl MUrlKey                    PUrl  \\\n",
       "2  test query 1  https://example.com/5    key5  https://example.com/p5   \n",
       "0  test query 1  https://example.com/1    key1  https://example.com/p1   \n",
       "3  test query 1  https://example.com/6    key6  https://example.com/p6   \n",
       "4  test query 1  https://example.com/7    key7  https://example.com/p7   \n",
       "5  test query 1  https://example.com/8    key8  https://example.com/p8   \n",
       "\n",
       "  PUrlKey       PageTitle TuringMMTextEmbedding  cosine_similarity  \n",
       "2   pkey5  Example Page 5    [0.12, 0.22, 0.32]           0.999881  \n",
       "0   pkey1  Example Page 1       [0.1, 0.2, 0.3]           0.999859  \n",
       "3   pkey6  Example Page 6    [0.13, 0.23, 0.33]           0.999559  \n",
       "4   pkey7  Example Page 7    [0.14, 0.24, 0.34]           0.999080  \n",
       "5   pkey8  Example Page 8    [0.15, 0.25, 0.35]           0.998480  "
      ]
     },
     "execution_count": 4,
     "metadata": {},
     "output_type": "execute_result"
    }
   ],
   "source": [
    "dataset.get_nearest_neighbors(\"test query 1\", \"key4\", k=5)"
   ]
  },
  {
   "cell_type": "code",
   "execution_count": 14,
   "metadata": {},
   "outputs": [
    {
     "name": "stdout",
     "output_type": "stream",
     "text": [
      "{\n",
      "    ranked_titles: ['Example Page 1', 'Example Page 9', 'Example Page 7', 'Example Page 5', 'Example Page 8', 'Example Page 10', 'Example Page 11', 'Example Page 12', 'Example Page 13', 'Example Page 4', 'Example Page 6']\n",
      "}\n"
     ]
    }
   ],
   "source": [
    "from rerank_methods import simple_rerank, score_based_rerank, gpt_test_based_rerank\n",
    "from dataset_utils import Dataset\n",
    "\n",
    "dataset = Dataset()\n",
    "query = \"test query 1\"\n",
    "doc_list = dataset.df[dataset.df[\"Query\"] == query][\"MUrlKey\"].tolist()\n",
    "liked_doc_list = [\"key1\", \"key9\", \"key7\"]\n",
    "disliked_doc_list = [\"key4\", \"key6\"]\n",
    "reranked_list = gpt_test_based_rerank(\n",
    "    query,\n",
    "    dataset.df[dataset.df.Query == query][\"MUrlKey\"].values.tolist(),\n",
    "    liked_doc_list,\n",
    "    disliked_doc_list,\n",
    "    dataset\n",
    ")\n",
    "print(reranked_list)"
   ]
  },
  {
   "cell_type": "code",
   "execution_count": null,
   "metadata": {},
   "outputs": [],
   "source": []
  }
 ],
 "metadata": {
  "kernelspec": {
   "display_name": "base",
   "language": "python",
   "name": "python3"
  },
  "language_info": {
   "codemirror_mode": {
    "name": "ipython",
    "version": 3
   },
   "file_extension": ".py",
   "mimetype": "text/x-python",
   "name": "python",
   "nbconvert_exporter": "python",
   "pygments_lexer": "ipython3",
   "version": "3.12.3"
  }
 },
 "nbformat": 4,
 "nbformat_minor": 2
}
